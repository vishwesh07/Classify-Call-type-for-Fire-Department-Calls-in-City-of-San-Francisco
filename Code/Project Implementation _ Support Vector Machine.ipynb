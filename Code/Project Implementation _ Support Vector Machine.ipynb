{
 "cells": [
  {
   "cell_type": "code",
   "execution_count": null,
   "metadata": {},
   "outputs": [],
   "source": [
    "# import pandas as pd\n",
    "# from sodapy import Socrata\n",
    "# client = Socrata(\"data.sfgov.org\", None)\n",
    "# results = client.get(\"enhu-st7v\", limit=4625743)\n",
    "# results_df = pd.DataFrame.from_records(results)\n",
    "# results_df.to_csv('Fire_Department_Calls_for_Service.csv', index= False, header= True, columns= results_df.columns)"
   ]
  },
  {
   "cell_type": "code",
   "execution_count": null,
   "metadata": {},
   "outputs": [],
   "source": [
    "import pandas as pd\n",
    "import numpy as np\n",
    "results_df = pd.read_csv('Fire_Department_Calls_for_Service.csv')"
   ]
  },
  {
   "cell_type": "code",
   "execution_count": null,
   "metadata": {},
   "outputs": [],
   "source": [
    "print(\"Shape of data frame -\", results_df.shape)"
   ]
  },
  {
   "cell_type": "code",
   "execution_count": null,
   "metadata": {},
   "outputs": [],
   "source": [
    "print(\"Columns -\", results_df.columns)"
   ]
  },
  {
   "cell_type": "code",
   "execution_count": null,
   "metadata": {},
   "outputs": [],
   "source": [
    "print(\"Sample data -\", results_df.head())"
   ]
  },
  {
   "cell_type": "code",
   "execution_count": null,
   "metadata": {},
   "outputs": [],
   "source": [
    "df_X = results_df.drop(['Call Number', 'Unit ID', 'Call Type Group', 'Call Date',\n",
    "       'Watch Date', 'Entry DtTm', 'Dispatch DtTm',\n",
    "       'Response DtTm', 'On Scene DtTm', 'Transport DtTm', 'Hospital DtTm',\n",
    "       'Call Final Disposition', 'Available DtTm', 'City',\n",
    "       'Priority', 'Final Priority', 'ALS Unit',\n",
    "       'Unit Type','Unit sequence in call dispatch', \n",
    "       'Location', 'RowID', 'Original Priority', 'Zipcode of Incident'],axis=1)"
   ]
  },
  {
   "cell_type": "code",
   "execution_count": null,
   "metadata": {},
   "outputs": [],
   "source": [
    "print(\"Remaining relevant Columns -\", df_X.columns)"
   ]
  },
  {
   "cell_type": "code",
   "execution_count": null,
   "metadata": {},
   "outputs": [],
   "source": [
    "print(\"Unique values of attributes: \", \"\\n\")\n",
    "print('Incident Number', len(df_X['Incident Number'].unique()), df_X['Incident Number'].unique(), \"\\n\")\n",
    "print('Address', len(df_X['Address'].unique()), df_X['Address'].unique(), \"\\n\")\n",
    "print('Battalion', len(df_X['Battalion'].unique()), df_X['Battalion'].unique(), \"\\n\")\n",
    "print('Box', len(df_X['Box'].unique()), df_X['Box'].unique(), \"\\n\")\n",
    "print('Call Type', len(df_X['Call Type'].unique()), df_X['Call Type'].unique(), \"\\n\")\n",
    "print('Number of Alarms', len(df_X['Number of Alarms'].unique()), df_X['Number of Alarms'].unique(), \"\\n\")\n",
    "print('Fire Prevention District', len(df_X['Fire Prevention District'].unique()), df_X['Fire Prevention District'].unique(), \"\\n\")\n",
    "print('Supervisor District', len(df_X['Supervisor District'].unique()), df_X['Supervisor District'].unique(), \"\\n\")\n",
    "print('Station Area', len(df_X['Station Area'].unique()), df_X['Station Area'].unique(), \"\\n\")\n",
    "print('Neighborhooods - Analysis Boundaries', len(df_X['Neighborhooods - Analysis Boundaries'].unique()), df_X['Neighborhooods - Analysis Boundaries'].unique(), \"\\n\")\n",
    "print('Received DtTm', len(df_X['Received DtTm'].unique()), df_X['Received DtTm'].unique(), \"\\n\")"
   ]
  },
  {
   "cell_type": "code",
   "execution_count": null,
   "metadata": {},
   "outputs": [],
   "source": [
    "df_X.isnull().sum()"
   ]
  },
  {
   "cell_type": "code",
   "execution_count": null,
   "metadata": {},
   "outputs": [],
   "source": [
    "df_X = df_X.drop_duplicates()"
   ]
  },
  {
   "cell_type": "code",
   "execution_count": null,
   "metadata": {},
   "outputs": [],
   "source": [
    "df_X = df_X.dropna()"
   ]
  },
  {
   "cell_type": "code",
   "execution_count": null,
   "metadata": {},
   "outputs": [],
   "source": [
    "df_X.head()"
   ]
  },
  {
   "cell_type": "code",
   "execution_count": null,
   "metadata": {},
   "outputs": [],
   "source": [
    "print(\"Shape of data frame -\", results_df.shape)"
   ]
  },
  {
   "cell_type": "code",
   "execution_count": null,
   "metadata": {},
   "outputs": [],
   "source": [
    "df_X['Address'] = df_X.Address.apply(lambda x: x.upper())\n",
    "df_X['Neighborhooods - Analysis Boundaries'] = df_X['Neighborhooods - Analysis Boundaries'].apply(lambda x: x.upper())\n",
    "df_X.head()"
   ]
  },
  {
   "cell_type": "code",
   "execution_count": null,
   "metadata": {},
   "outputs": [],
   "source": [
    "def convertToStr(x):\n",
    "    if type(x) == type(1.0):\n",
    "        return str(int(x))\n",
    "    elif type(x) == type('s'):\n",
    "        try:\n",
    "            return str(int(x))\n",
    "        except:\n",
    "            return x\n",
    "    else:\n",
    "        return str(x)"
   ]
  },
  {
   "cell_type": "code",
   "execution_count": null,
   "metadata": {},
   "outputs": [],
   "source": [
    "df_X['Box'] = df_X['Box'].apply(convertToStr)"
   ]
  },
  {
   "cell_type": "code",
   "execution_count": null,
   "metadata": {},
   "outputs": [],
   "source": [
    "df_X['Supervisor District'] = df_X['Supervisor District'].apply(convertToStr)"
   ]
  },
  {
   "cell_type": "code",
   "execution_count": null,
   "metadata": {},
   "outputs": [],
   "source": [
    "df_X['Station Area'] = df_X['Station Area'].apply(convertToStr)"
   ]
  },
  {
   "cell_type": "code",
   "execution_count": null,
   "metadata": {},
   "outputs": [],
   "source": [
    "from datetime import datetime\n",
    "\n",
    "def convert_date_to_weekday(tmstp):\n",
    "    result = datetime.strptime(tmstp, '%m/%d/%Y %I:%M:%S %p').weekday()\n",
    "    return result\n",
    "    \n",
    "def convert_date_to_hour(tmstp):\n",
    "    result = datetime.strptime(tmstp, '%m/%d/%Y %I:%M:%S %p').hour\n",
    "    return result\n",
    "\n",
    "def convert_date_to_month(tmstp):\n",
    "    result = datetime.strptime(tmstp, '%m/%d/%Y %I:%M:%S %p').month\n",
    "    return result"
   ]
  },
  {
   "cell_type": "code",
   "execution_count": null,
   "metadata": {},
   "outputs": [],
   "source": [
    "df_X['Weekday'] = df_X['Received DtTm'].apply(lambda x: convert_date_to_weekday(x))"
   ]
  },
  {
   "cell_type": "code",
   "execution_count": null,
   "metadata": {},
   "outputs": [],
   "source": [
    "df_X['Hour'] = df_X['Received DtTm'].apply(lambda x: convert_date_to_hour(x))"
   ]
  },
  {
   "cell_type": "code",
   "execution_count": null,
   "metadata": {},
   "outputs": [],
   "source": [
    "df_X['Month'] = df_X['Received DtTm'].apply(lambda x: convert_date_to_month(x))"
   ]
  },
  {
   "cell_type": "code",
   "execution_count": null,
   "metadata": {},
   "outputs": [],
   "source": [
    "df_X.head()"
   ]
  },
  {
   "cell_type": "code",
   "execution_count": null,
   "metadata": {},
   "outputs": [],
   "source": [
    "df_X = df_X.drop(['Received DtTm'],axis=1)"
   ]
  },
  {
   "cell_type": "code",
   "execution_count": null,
   "metadata": {},
   "outputs": [],
   "source": [
    "print(\"Unique values of attributes: \", \"\\n\")\n",
    "print('Incident Number', len(df_X['Incident Number'].unique()), df_X['Incident Number'].unique(), \"\\n\")\n",
    "print('Address', len(df_X['Address'].unique()), df_X['Address'].unique(), \"\\n\")\n",
    "print('Battalion', len(df_X['Battalion'].unique()), df_X['Battalion'].unique(), \"\\n\")\n",
    "print('Box', len(df_X['Box'].unique()), df_X['Box'].unique(), \"\\n\")\n",
    "print('Call Type', len(df_X['Call Type'].unique()), df_X['Call Type'].unique(), \"\\n\")\n",
    "print('Number of Alarms', len(df_X['Number of Alarms'].unique()), df_X['Number of Alarms'].unique(), \"\\n\")\n",
    "print('Fire Prevention District', len(df_X['Fire Prevention District'].unique()), df_X['Fire Prevention District'].unique(), \"\\n\")\n",
    "print('Supervisor District', len(df_X['Supervisor District'].unique()), df_X['Supervisor District'].unique(), \"\\n\")\n",
    "print('Station Area', len(df_X['Station Area'].unique()), df_X['Station Area'].unique(), \"\\n\")\n",
    "print('Neighborhooods - Analysis Boundaries', len(df_X['Neighborhooods - Analysis Boundaries'].unique()), df_X['Neighborhooods - Analysis Boundaries'].unique(), \"\\n\")\n",
    "print('Weekday', len(df_X['Weekday'].unique()), df_X['Weekday'].unique(), \"\\n\")\n",
    "print('Month', len(df_X['Month'].unique()), df_X['Month'].unique(), \"\\n\")\n",
    "print('Hour', len(df_X['Hour'].unique()), df_X['Hour'].unique(), \"\\n\")"
   ]
  },
  {
   "cell_type": "code",
   "execution_count": null,
   "metadata": {},
   "outputs": [],
   "source": [
    "df_X = df_X.drop(['Incident Number', 'Battalion','Number of Alarms',\n",
    "       'Fire Prevention District', 'Supervisor District', 'Station Area'],axis=1)"
   ]
  },
  {
   "cell_type": "code",
   "execution_count": null,
   "metadata": {},
   "outputs": [],
   "source": [
    "df_y = df_X['Call Type']"
   ]
  },
  {
   "cell_type": "code",
   "execution_count": null,
   "metadata": {},
   "outputs": [],
   "source": [
    "df_X = df_X.drop(['Call Type'],axis=1)"
   ]
  },
  {
   "cell_type": "markdown",
   "metadata": {},
   "source": [
    "# One Hot Encoding - Memory Error"
   ]
  },
  {
   "cell_type": "code",
   "execution_count": null,
   "metadata": {},
   "outputs": [],
   "source": [
    "# from numpy import array\n",
    "# from numpy import argmax\n",
    "# from sklearn.preprocessing import LabelEncoder\n",
    "# from sklearn.preprocessing import OneHotEncoder\n",
    "# label_encoder = LabelEncoder()\n",
    "# onehot_encoder = OneHotEncoder(sparse=False)"
   ]
  },
  {
   "cell_type": "code",
   "execution_count": null,
   "metadata": {},
   "outputs": [],
   "source": [
    "# address_list = []\n",
    "# address_len = len(df_X['Address'].unique())\n",
    "# for v in range(address_len):\n",
    "#     address_list.append('address_'+str(v))\n",
    "# address_data = df_X['Address']\n",
    "\n",
    "# values = array(address_data)\n",
    "# print(values.shape)\n",
    "# integer_encoded = label_encoder.fit_transform(address_data)\n",
    "# print(integer_encoded.shape)\n",
    "# # binary encode\n",
    "# integer_encoded = integer_encoded.reshape(len(integer_encoded), 1)\n",
    "# onehot_encoded = onehot_encoder.fit_transform(integer_encoded)\n",
    "# print(onehot_encoded.shape)\n",
    "\n",
    "# df_X_address = pd.DataFrame(data= onehot_encoded, index= df_X.index, columns= address_list)"
   ]
  },
  {
   "cell_type": "code",
   "execution_count": null,
   "metadata": {},
   "outputs": [],
   "source": [
    "# battalion_list = []\n",
    "# battalion_len = len(df_X['Battalion'].unique())\n",
    "# for v in range(battalion_len):\n",
    "#     battalion_list.append('battalion_'+str(v))\n",
    "# battalion_data = df_X['Battalion']\n",
    "\n",
    "# values = array(battalion_data)\n",
    "# print(values.shape)\n",
    "# integer_encoded = label_encoder.fit_transform(battalion_data)\n",
    "# print(integer_encoded.shape)\n",
    "# # binary encode\n",
    "# integer_encoded = integer_encoded.reshape(len(integer_encoded), 1)\n",
    "# onehot_encoded = onehot_encoder.fit_transform(integer_encoded)\n",
    "# print(onehot_encoded.shape)\n",
    "\n",
    "# df_X_battalion = pd.DataFrame(data= onehot_encoded, index= df_X.index, columns= battalion_list)"
   ]
  },
  {
   "cell_type": "code",
   "execution_count": null,
   "metadata": {},
   "outputs": [],
   "source": [
    "# box_list = []\n",
    "# box_len = len(df_X['Box'].unique())\n",
    "# for v in range(box_len):\n",
    "#     box_list.append('box_'+str(v))\n",
    "# box_data = df_X['Box']\n",
    "\n",
    "# values = array(box_data)\n",
    "# print(values.shape)\n",
    "# integer_encoded = label_encoder.fit_transform(box_data)\n",
    "# print(integer_encoded.shape)\n",
    "# # binary encode\n",
    "# integer_encoded = integer_encoded.reshape(len(integer_encoded), 1)\n",
    "# onehot_encoded = onehot_encoder.fit_transform(integer_encoded)\n",
    "# print(onehot_encoded.shape)\n",
    "\n",
    "# df_X_box = pd.DataFrame(data= onehot_encoded, index= df_X.index, columns= box_list)"
   ]
  },
  {
   "cell_type": "code",
   "execution_count": null,
   "metadata": {},
   "outputs": [],
   "source": [
    "# neighborhooods_Analysis_Boundaries_list = []\n",
    "# neighborhooods_Analysis_Boundaries_len = len(df_X['Neighborhooods - Analysis Boundaries'].unique())\n",
    "# for v in range(neighborhooods_Analysis_Boundaries_len):\n",
    "#     neighborhooods_Analysis_Boundaries_list.append('neighborhooods_Analysis_Boundaries_'+str(v))\n",
    "# neighborhooods_Analysis_Boundaries_data = df_X['Neighborhooods - Analysis Boundaries']\n",
    "\n",
    "# values = array(neighborhooods_Analysis_Boundaries_data)\n",
    "# print(values.shape)\n",
    "# integer_encoded = label_encoder.fit_transform(neighborhooods_Analysis_Boundaries_data)\n",
    "# print(integer_encoded.shape)\n",
    "# # binary encode\n",
    "# integer_encoded = integer_encoded.reshape(len(integer_encoded), 1)\n",
    "# onehot_encoded = onehot_encoder.fit_transform(integer_encoded)\n",
    "# print(onehot_encoded.shape)\n",
    "\n",
    "# df_X_neighborhooods_Analysis_Boundaries = pd.DataFrame(data= onehot_encoded, index= df_X.index, columns= neighborhooods_Analysis_Boundaries_list)"
   ]
  },
  {
   "cell_type": "code",
   "execution_count": null,
   "metadata": {},
   "outputs": [],
   "source": [
    "# weekday_list = []\n",
    "# weekday_len = len(df_X['Weekday'].unique())\n",
    "# for v in range(weekday_len):\n",
    "#     weekday_list.append('weekday_'+str(v))\n",
    "# weekday_data = df_X['Weekday']\n",
    "\n",
    "# values = array(weekday_data)\n",
    "# print(values.shape)\n",
    "# integer_encoded = label_encoder.fit_transform(weekday_data)\n",
    "# print(integer_encoded.shape)\n",
    "# # binary encode\n",
    "# integer_encoded = integer_encoded.reshape(len(integer_encoded), 1)\n",
    "# onehot_encoded = onehot_encoder.fit_transform(integer_encoded)\n",
    "# print(onehot_encoded.shape)\n",
    "\n",
    "# df_X_weekday = pd.DataFrame(data= onehot_encoded, index= df_X.index, columns= weekday_list)"
   ]
  },
  {
   "cell_type": "code",
   "execution_count": null,
   "metadata": {},
   "outputs": [],
   "source": [
    "# hour_list = []\n",
    "# hour_len = len(df_X['Hour'].unique())\n",
    "# for v in range(hour_len):\n",
    "#     hour_list.append('hour_'+str(v))\n",
    "# hour_data = df_X['Hour']\n",
    "\n",
    "# values = array(hour_data)\n",
    "# print(values.shape)\n",
    "# integer_encoded = label_encoder.fit_transform(hour_data)\n",
    "# print(integer_encoded.shape)\n",
    "# # binary encode\n",
    "# integer_encoded = integer_encoded.reshape(len(integer_encoded), 1)\n",
    "# onehot_encoded = onehot_encoder.fit_transform(integer_encoded)\n",
    "# print(onehot_encoded.shape)\n",
    "\n",
    "# df_X_hour = pd.DataFrame(data= onehot_encoded, index= df_X.index, columns= hour_list)"
   ]
  },
  {
   "cell_type": "code",
   "execution_count": null,
   "metadata": {},
   "outputs": [],
   "source": [
    "# month_list = []\n",
    "# month_len = len(df_X['Month'].unique())\n",
    "# for v in range(month_len):\n",
    "#     month_list.append('month_'+str(v))\n",
    "# month_data = df_X['Month']\n",
    "\n",
    "# values = array(month_data)\n",
    "# print(values.shape)\n",
    "# integer_encoded = label_encoder.fit_transform(month_data)\n",
    "# print(integer_encoded.shape)\n",
    "# # binary encode\n",
    "# integer_encoded = integer_encoded.reshape(len(integer_encoded), 1)\n",
    "# onehot_encoded = onehot_encoder.fit_transform(integer_encoded)\n",
    "# print(onehot_encoded.shape)\n",
    "\n",
    "# df_X_month = pd.DataFrame(data= onehot_encoded, index= df_X.index, columns= month_list)"
   ]
  },
  {
   "cell_type": "code",
   "execution_count": null,
   "metadata": {},
   "outputs": [],
   "source": [
    "# df_X = pd.concat([\n",
    "#            df_X_address,\n",
    "#            df_X_box,\n",
    "#            df_X_battalion,\n",
    "#            df_X_neighborhooods_Analysis_Boundaries,\n",
    "#            df_X_weekday,\n",
    "#            df_X_hour,\n",
    "#            df_X_month],axis=1)\n",
    "# print(\"Shape of data frame -\", df_X.shape)\n",
    "# print(df_X.head())"
   ]
  },
  {
   "cell_type": "markdown",
   "metadata": {},
   "source": [
    "# Memory efficient CSR Matrix representation"
   ]
  },
  {
   "cell_type": "code",
   "execution_count": null,
   "metadata": {},
   "outputs": [],
   "source": [
    "from scipy.sparse import csr_matrix\n",
    "\n",
    "def dataframetoCSRmatrix(df):\n",
    "    nrows = len(df)\n",
    "    nc = len(df.columns)\n",
    "    idx = {}\n",
    "    tid = 0\n",
    "    nnz = nc * nrows\n",
    "    \n",
    "    cols= df.columns\n",
    "    \n",
    "    for col in cols:\n",
    "        df[col] = df[col].apply(str)\n",
    "        for name in df[col].unique():\n",
    "            idx[col+name] = tid\n",
    "            tid += 1\n",
    "    \n",
    "    ncols = len(idx)\n",
    "    \n",
    "    ind = np.zeros(nnz, dtype=np.int)\n",
    "    val = np.zeros(nnz, dtype=np.int)\n",
    "    ptr = np.zeros(nrows+1, dtype=np.int)\n",
    "    \n",
    "    i=0\n",
    "    n=0\n",
    "    \n",
    "    for index,row in df.iterrows():\n",
    "        for j,col in enumerate(cols):\n",
    "            ind[j+n] = idx[col+row[col]]\n",
    "            val[j+n] = 1\n",
    "        ptr[i+1] = ptr[i] + nc\n",
    "        n += nc\n",
    "        i += 1\n",
    "    \n",
    "    mat = csr_matrix((val,ind,ptr), shape=(nrows,ncols), dtype=np.int)\n",
    "    mat.sort_indices()   \n",
    "    \n",
    "    return mat\n",
    "    \n",
    "mat = dataframetoCSRmatrix(df_X)\n",
    "\n",
    "print(\"Shape of CSR Matrix -\", mat.shape)"
   ]
  },
  {
   "cell_type": "markdown",
   "metadata": {},
   "source": [
    "# Dimentionality Reduction"
   ]
  },
  {
   "cell_type": "code",
   "execution_count": null,
   "metadata": {},
   "outputs": [],
   "source": [
    "from sklearn.decomposition import TruncatedSVD\n",
    "\n",
    "svd = TruncatedSVD(n_components=10, n_iter=10, random_state=42)\n",
    "reduced_mat = svd.fit_transform(mat)"
   ]
  },
  {
   "cell_type": "code",
   "execution_count": null,
   "metadata": {},
   "outputs": [],
   "source": [
    "type(reduced_mat)"
   ]
  },
  {
   "cell_type": "code",
   "execution_count": null,
   "metadata": {},
   "outputs": [],
   "source": [
    "comps = svd.explained_variance_\n",
    "print(comps)"
   ]
  },
  {
   "cell_type": "code",
   "execution_count": null,
   "metadata": {},
   "outputs": [],
   "source": [
    "import matplotlib.pyplot as plt\n",
    "plt.plot(comps)\n",
    "plt.show()"
   ]
  },
  {
   "cell_type": "code",
   "execution_count": null,
   "metadata": {},
   "outputs": [],
   "source": [
    "copy_reduced = reduced_mat[...,1:]"
   ]
  },
  {
   "cell_type": "code",
   "execution_count": null,
   "metadata": {},
   "outputs": [],
   "source": [
    "copy_reduced.shape"
   ]
  },
  {
   "cell_type": "code",
   "execution_count": null,
   "metadata": {},
   "outputs": [],
   "source": [
    "import matplotlib.pyplot as plt\n",
    "plt.plot(comps)\n",
    "plt.show()"
   ]
  },
  {
   "cell_type": "markdown",
   "metadata": {},
   "source": [
    "# Model Training and Testing"
   ]
  },
  {
   "cell_type": "code",
   "execution_count": null,
   "metadata": {},
   "outputs": [],
   "source": [
    "# df_train_x = reduced_mat[:1800000]\n",
    "# df_test_x = reduced_mat[1800000:]\n",
    "\n",
    "df_train_x = copy_reduced[:1800000]\n",
    "df_test_x = copy_reduced[1800000:]\n",
    "\n",
    "df_train_y = df_y[:1800000]\n",
    "df_test_y = df_y[1800000:]\n",
    "\n",
    "print(df_train_x.shape)\n",
    "print(df_train_y.shape)\n",
    "print(df_test_x.shape)\n",
    "print(df_test_y.shape)"
   ]
  },
  {
   "cell_type": "code",
   "execution_count": null,
   "metadata": {},
   "outputs": [],
   "source": [
    "from sklearn import svm\n",
    "\n",
    "svmclf = svm.SVC()\n",
    "svmclf.fit(df_train_x, df_train_y) \n",
    "\n",
    "from sklearn.metrics import f1_score\n",
    "\n",
    "predicted_train_y = svmclf.predict(df_train_x)\n",
    "print(\"train accuracy: \",f1_score(df_train_y, predicted_train_y, average='micro'))\n",
    "predicted_y = svmclf.predict(df_test_x)\n",
    "print(\"test accuracy: \",f1_score(df_test_y, predicted_y, average='micro'))"
   ]
  }
 ],
 "metadata": {
  "kernelspec": {
   "display_name": "Python 3",
   "language": "python",
   "name": "python3"
  },
  "language_info": {
   "codemirror_mode": {
    "name": "ipython",
    "version": 3
   },
   "file_extension": ".py",
   "mimetype": "text/x-python",
   "name": "python",
   "nbconvert_exporter": "python",
   "pygments_lexer": "ipython3",
   "version": "3.4.7"
  }
 },
 "nbformat": 4,
 "nbformat_minor": 2
}
